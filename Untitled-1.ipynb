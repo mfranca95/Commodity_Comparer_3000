{
 "cells": [
  {
   "cell_type": "code",
   "execution_count": null,
   "metadata": {},
   "outputs": [],
   "source": [
    "import matplotlib.pyplot as plt\n",
    "import pandas as pd\n",
    "import hvplot.pandas\n",
    "from pathlib import Path\n",
    "import yfinance as yf"
   ]
  },
  {
   "cell_type": "code",
   "execution_count": null,
   "metadata": {},
   "outputs": [],
   "source": []
  },
  {
   "cell_type": "code",
   "execution_count": null,
   "metadata": {},
   "outputs": [],
   "source": [
    "# Setting variables\n",
    "spy = yf.Ticker('SPY')\n",
    "nasdaq = yf.Ticker ('QQQ')\n",
    "gold = yf.Ticker('GLD')\n",
    "silver = yf.Ticker('SLV')\n",
    "#Getting all Basic Stock data\n",
    "#spy.info\n",
    "gold.info\n",
    "spy.info\n",
    "nasdaq.info\n",
    "silver.info\n",
    "\n"
   ]
  },
  {
   "cell_type": "code",
   "execution_count": null,
   "metadata": {},
   "outputs": [],
   "source": [
    "# Showing historical Data\n",
    "history_spy = spy.history(period=\"10y\")\n",
    "history_nasdaq = nasdaq.history(period='10y')\n",
    "gold_history = gold.history(period='10y')\n",
    "silver_history = silver.history(period='10y')\n",
    "#Shows open high low close etc\n",
    "#history_spy.head()\n",
    "#history_nasdaq\n",
    "# Code to drop unecessary columns\n",
    "#columns_to_drop = ['Dividends', 'Stock_Splits', 'Capital_Gains']\n",
    "#history_nasdaq = history_nasdaq.drop(columns=columns_to_drop)\n",
    "history_spy"
   ]
  },
  {
   "cell_type": "code",
   "execution_count": null,
   "metadata": {},
   "outputs": [],
   "source": [
    "history_nasdaq = history_nasdaq.drop(columns=['Dividends','Stock Splits'])\n",
    "history_spy = history_spy.drop(columns=['Dividends','Stock Splits','Capital Gains','Low','High','Volume','Open'])\n",
    "#gold_history =  gold_history.drop(columns=['Dividends','Stock Splits','Capital Gains'])\n",
    "silver_history = silver_history.drop(columns=['Dividends','Stock Splits','Capital Gains','Open','High','Low','Volume'])\n",
    "gold_history = gold_history.drop(columns=['Dividends','Stock Splits','Capital Gains','Low','High','Volume','Open'])\n"
   ]
  },
  {
   "cell_type": "code",
   "execution_count": null,
   "metadata": {},
   "outputs": [],
   "source": [
    "#Checking to see if All Dataframes are Working\n",
    "#history_spy\n",
    "type(history_nasdaq)\n",
    "history_nasdaq\n",
    "\n"
   ]
  },
  {
   "cell_type": "code",
   "execution_count": null,
   "metadata": {},
   "outputs": [],
   "source": [
    "\n",
    "history_spy = history_spy.reset_index()\n",
    "\n",
    "\n"
   ]
  },
  {
   "cell_type": "code",
   "execution_count": null,
   "metadata": {},
   "outputs": [],
   "source": [
    "# Striping the time from Date\n",
    "history_spy['Date'] = history_spy['Date'].dt.strftime('%Y-%m-%d')\n",
    "history_spy"
   ]
  },
  {
   "cell_type": "code",
   "execution_count": null,
   "metadata": {},
   "outputs": [],
   "source": [
    "#Checking DataFrames\n",
    "type(gold_history)\n"
   ]
  },
  {
   "cell_type": "code",
   "execution_count": null,
   "metadata": {},
   "outputs": [],
   "source": [
    "#Cleaning DataFrame Note you must reset index before stripping time from the Date\n",
    "gold_history = gold_history.reset_index()\n",
    "gold_history['Date'] = gold_history['Date'].dt.strftime('%Y-%m-%d')\n",
    "gold_history\n",
    "\n"
   ]
  },
  {
   "cell_type": "code",
   "execution_count": null,
   "metadata": {},
   "outputs": [],
   "source": [
    "# Fixing silver Dataframe\n",
    "\n",
    "silver_history = silver_history.reset_index()\n",
    "silver_history['Date'] = silver_history['Date'].dt.strftime('%Y-%m-%d')\n",
    "silver_history\n"
   ]
  },
  {
   "cell_type": "code",
   "execution_count": null,
   "metadata": {},
   "outputs": [],
   "source": [
    "#Fixing Nasdaq History\n",
    "history_nasdaq = history_nasdaq.reset_index()\n",
    "history_nasdaq['Date'] = history_nasdaq['Date'].dt.strftime('%Y-%m-%d')\n",
    "history_nasdaq\n",
    "\n"
   ]
  },
  {
   "cell_type": "code",
   "execution_count": null,
   "metadata": {},
   "outputs": [],
   "source": [
    "#function to pull data quicker Marco Suggestion\n",
    "\n",
    "\n",
    "import yfinance as yf\n",
    "import pandas as pd\n",
    "\n",
    "def pull_function(ticket_name):\n",
    "    try:\n",
    "        # Use yfinance to fetch ticker data\n",
    "        ticker_data = yf.download(ticket_name, period=\"10y\", threads=True)\n",
    "\n",
    "        # Extract the \"Date\" and \"Close\" columns and create a DataFrame with them\n",
    "        df = pd.DataFrame({\n",
    "            \"Date\": ticker_data.index,  # Assuming the date is the index\n",
    "            \"Close\": ticker_data[\"Close\"]\n",
    "        })\n",
    "\n",
    "        return df\n",
    "    except Exception as e:\n",
    "        print(f\"Error fetching data for {ticket_name}: {str(e)}\")\n",
    "        return None\n",
    "\n",
    "# Example usage:\n",
    "ticker_symbol = \"SPY\"  # Replace with the desired ticker symbol\n",
    "df = pull_function(ticker_symbol)\n",
    "\n",
    "if df is not None:\n",
    "    print(df.head())\n",
    "\n",
    "\n",
    "\n"
   ]
  },
  {
   "cell_type": "code",
   "execution_count": null,
   "metadata": {},
   "outputs": [],
   "source": [
    "import yfinance as yf\n",
    "import pandas as pd\n",
    "\n",
    "def pull_function(ticket_name):\n",
    "    try:\n",
    "        # Use yfinance to fetch ticker data\n",
    "        ticker_data = yf.download(ticket_name, period=\"10y\", threads=True)\n",
    "\n",
    "        # Extract the \"Date\" and \"Close\" columns and create a DataFrame with them\n",
    "        df = pd.DataFrame({\n",
    "            \"Date\": ticker_data.index,  # Assuming the date is the index\n",
    "            \"Close\": ticker_data[\"Close\"]\n",
    "        })\n",
    "\n",
    "        return df\n",
    "    except Exception as e:\n",
    "        print(f\"Error fetching data for {ticket_name}: {str(e)}\")\n",
    "        return None\n",
    "\n",
    "# Example usage:\n",
    "ticker_symbol = \"SLV\"  # Replace with the desired ticker symbol\n",
    "df = pull_function(ticker_symbol)\n",
    "\n",
    "if df is not None:\n",
    "    print(df.head())\n"
   ]
  },
  {
   "cell_type": "code",
   "execution_count": null,
   "metadata": {},
   "outputs": [],
   "source": [
    "import yfinance as yf\n",
    "import pandas as pd\n",
    "\n",
    "def pull_function(ticket_name):\n",
    "    try:\n",
    "        # Use yfinance to fetch ticker data\n",
    "        ticker_data = yf.download(ticket_name, period=\"10y\", threads=True)\n",
    "\n",
    "        # Extract the \"Date\" and \"Close\" columns and create a DataFrame with them\n",
    "        df = pd.DataFrame({\n",
    "            \"Date\": ticker_data.index,  # Assuming the date is the index\n",
    "            \"Close\": ticker_data[\"Close\"]\n",
    "        })\n",
    "\n",
    "        return df\n",
    "    except Exception as e:\n",
    "        print(f\"Error fetching data for {ticket_name}: {str(e)}\")\n",
    "        return None\n",
    "\n",
    "# Example usage:\n",
    "ticker_symbol = \"GLD\"  # Replace with the desired ticker symbol\n",
    "df = pull_function(ticker_symbol)\n",
    "\n",
    "if df is not None:\n",
    "    print(df.head())\n"
   ]
  },
  {
   "cell_type": "code",
   "execution_count": null,
   "metadata": {},
   "outputs": [],
   "source": [
    "import yfinance as yf\n",
    "import pandas as pd\n",
    "\n",
    "def pull_function(ticket_name):\n",
    "    try:\n",
    "        # Use yfinance to fetch ticker data\n",
    "        ticker_data = yf.download(ticket_name, period=\"10y\", threads=True)\n",
    "\n",
    "        # Extract the \"Date\" and \"Close\" columns and create a DataFrame with them\n",
    "        df = pd.DataFrame({\n",
    "            \"Date\": ticker_data.index,  # Assuming the date is the index\n",
    "            \"Close\": ticker_data[\"Close\"]\n",
    "        })\n",
    "\n",
    "        return df\n",
    "    except Exception as e:\n",
    "        print(f\"Error fetching data for {ticket_name}: {str(e)}\")\n",
    "        return None\n",
    "\n",
    "# Example usage:\n",
    "ticker_symbol = \"QQQ\"  # Replace with the desired ticker symbol\n",
    "df = pull_function(ticker_symbol)\n",
    "\n",
    "if df is not None:\n",
    "    print(df.head())\n"
   ]
  },
  {
   "cell_type": "code",
   "execution_count": null,
   "metadata": {},
   "outputs": [],
   "source": [
    "#Getting BTC Dataframe\n",
    "\n",
    "# Define the ticker symbol for Bitcoin\n",
    "btc_symbol = \"BTC-USD\"\n",
    "\n",
    "# Specify the date range for the past 10 years\n",
    "start_date = \"2013-10-09\"  # Adjust this date as needed\n",
    "end_date = \"2023-10-09\"    # This should be the current date or a date in the past\n",
    "\n",
    "# Use yfinance to fetch Bitcoin data for the specified date range\n",
    "btc_data = yf.download(btc_symbol, start=start_date, end=end_date, progress=False)\n",
    "\n",
    "# Extract the \"Close\" column and create a DataFrame\n",
    "btc_df = btc_data[[\"Close\"]]\n",
    "\n",
    "# Print the first few rows of the DataFrame\n",
    "print(btc_df.head())\n"
   ]
  },
  {
   "cell_type": "code",
   "execution_count": null,
   "metadata": {},
   "outputs": [],
   "source": [
    "# Getting ETH DATAFRame\n",
    "\n",
    "# Define the ticker symbol for Bitcoin\n",
    "eth_symbol = \"ETH-USD\"\n",
    "\n",
    "# Specify the date range for the past 10 years \n",
    "start_date = \"2013-10-09\"  \n",
    "end_date = \"2023-10-09\"    \n",
    "\n",
    "# Use yfinance to fetch Bitcoin data for the specified date range progress=false stops dowload bar from showing\n",
    "eth_data = yf.download(eth_symbol, start=start_date, end=end_date, progress=False)\n",
    "\n",
    "# Extract the \"Close\" column and create a DataFrame\n",
    "eth_symbol_df = eth_data[[\"Close\"]]\n",
    "\n",
    "# Print the first few rows of the DataFrame\n",
    "print(btc_df.head())\n"
   ]
  },
  {
   "cell_type": "code",
   "execution_count": null,
   "metadata": {},
   "outputs": [],
   "source": [
    "\n",
    "\n",
    "\n",
    " # Creating  number of simulations\n",
    "num_sims = 500\n",
    "\n",
    "# Configure a Monte Carlo simulation to forecast one year daily returns\n",
    "MC_TSLA = MCSimulation(\n",
    "    portfolio_data = ticker_data,\n",
    "    num_simulation = num_sims,\n",
    "    num_trading_days = 252\n",
    "\n"
   ]
  },
  {
   "cell_type": "code",
   "execution_count": null,
   "metadata": {},
   "outputs": [],
   "source": [
    "# import yfinance as yf\n",
    "# import numpy as np\n",
    "# import matplotlib.pyplot as plt\n",
    "\n",
    "# # Define the ticker symbol for SPY (S&P 500 ETF)\n",
    "# tsla_symbol = \"TSLA\"\n",
    "\n",
    "# # Define the number of simulations\n",
    "# num_simulations = 1000\n",
    "\n",
    "# # Download historical data for SPY\n",
    "# tsla_data = yf.download(tsla_symbol, period=\"10y\", progress=False)\n",
    "\n",
    "# # Calculate daily returns\n",
    "# tsla_symbol['Daily_Return'] = tsla_data['Adj Close'].pct_change().dropna()\n",
    "\n",
    "# # Calculate mean and standard deviation of daily returns\n",
    "# mean_return = tsla_symbol['Daily_Return'].mean()\n",
    "# std_dev = tsla_symbol['Daily_Return'].std()\n",
    "\n",
    "# # Set the simulation parameters\n",
    "# initial_price = tsla_data['Adj Close'].iloc[-1]\n",
    "# simulation_period_years = 5\n",
    "# simulation_days = 252 * simulation_period_years\n",
    "\n",
    "# # Perform Monte Carlo simulation\n",
    "# simulated_prices = []\n",
    "\n",
    "# for _ in range(num_simulations):\n",
    "#     daily_returns = np.random.normal(mean_return, std_dev, simulation_days)\n",
    "#     price_path = initial_price * (1 + daily_returns).cumprod()\n",
    "#     simulated_prices.append(price_path)\n",
    "\n",
    "# # Plot the simulations\n",
    "# plt.figure(figsize=(12, 6))\n",
    "# for price_path in simulated_prices:\n",
    "#     plt.plot(price_path)\n",
    "# plt.title(f\"Monte Carlo Simulation for {tsla_symbol} over the Next {simulation_period_years} Years\")\n",
    "# plt.xlabel(\"Trading Days\")\n",
    "# plt.ylabel(\"Price\")\n",
    "# plt.show()\n"
   ]
  },
  {
   "cell_type": "code",
   "execution_count": null,
   "metadata": {},
   "outputs": [],
   "source": [
    "# Defining Puller Function to get Ticker Info\n",
    "def puller(ticker, time):\n",
    "    info = yf.Ticker(ticker)\n",
    "    history = info.history(period=time)\n",
    "    history.drop(columns=['Stock Splits','Dividends','Volume','Low','High','Open'], inplace=True)\n",
    "    if 'Capital Gains' in history.columns:\n",
    "        history.drop(columns=['Capital Gains'],inplace=True)\n",
    "    history = history.reset_index()\n",
    "    history['Date'] = history['Date'].dt.strftime('%Y-%m-%d')\n",
    "    history = history.set_index('Date')\n",
    "    return history\n"
   ]
  },
  {
   "cell_type": "code",
   "execution_count": null,
   "metadata": {},
   "outputs": [],
   "source": [
    "#Pulls data for Stock Tickers also works for Crypto BTC-USD\n",
    "ticker = input('Please enter the ticker symbol to look for: ')\n",
    "time_period = input('Please enter the time period')\n",
    "history = puller(ticker,time_period)\n",
    "history\n",
    "\n",
    "\n"
   ]
  },
  {
   "cell_type": "code",
   "execution_count": 14,
   "metadata": {},
   "outputs": [
    {
     "ename": "NameError",
     "evalue": "name 'ticker' is not defined",
     "output_type": "error",
     "traceback": [
      "\u001b[0;31m---------------------------------------------------------------------------\u001b[0m",
      "\u001b[0;31mNameError\u001b[0m                                 Traceback (most recent call last)",
      "\u001b[1;32m/Users/admin/Desktop/Project-1/Untitled-1.ipynb Cell 23\u001b[0m line \u001b[0;36m1\n\u001b[1;32m     <a href='vscode-notebook-cell:/Users/admin/Desktop/Project-1/Untitled-1.ipynb#X31sZmlsZQ%3D%3D?line=12'>13</a>\u001b[0m     ticker \u001b[39m=\u001b[39m \u001b[39minput\u001b[39m(\u001b[39m'\u001b[39m\u001b[39mPlease enter the ticker symbol to look for: \u001b[39m\u001b[39m'\u001b[39m)\n\u001b[1;32m     <a href='vscode-notebook-cell:/Users/admin/Desktop/Project-1/Untitled-1.ipynb#X31sZmlsZQ%3D%3D?line=13'>14</a>\u001b[0m \u001b[39m# Configure a Monte Carlo simulation to forecast one year daily returns\u001b[39;00m\n\u001b[1;32m     <a href='vscode-notebook-cell:/Users/admin/Desktop/Project-1/Untitled-1.ipynb#X31sZmlsZQ%3D%3D?line=14'>15</a>\u001b[0m Mc_stocks \u001b[39m=\u001b[39m MCSimulation(\n\u001b[0;32m---> <a href='vscode-notebook-cell:/Users/admin/Desktop/Project-1/Untitled-1.ipynb#X31sZmlsZQ%3D%3D?line=15'>16</a>\u001b[0m           data \u001b[39m=\u001b[39m ticker,\n\u001b[1;32m     <a href='vscode-notebook-cell:/Users/admin/Desktop/Project-1/Untitled-1.ipynb#X31sZmlsZQ%3D%3D?line=16'>17</a>\u001b[0m     num_simulation \u001b[39m=\u001b[39m  num_sims,\n\u001b[1;32m     <a href='vscode-notebook-cell:/Users/admin/Desktop/Project-1/Untitled-1.ipynb#X31sZmlsZQ%3D%3D?line=17'>18</a>\u001b[0m     num_trading_days \u001b[39m=\u001b[39m \u001b[39m252\u001b[39m )\n",
      "\u001b[0;31mNameError\u001b[0m: name 'ticker' is not defined"
     ]
    }
   ],
   "source": [
    "#Monte Carlo Sim\n",
    "from MCForecastTools import MCSimulation\n",
    "import numpy as np\n",
    "import os\n",
    "import pandas as pd\n",
    "import alpaca_trade_api as tradeapi\n",
    "\n",
    " # Creating  number of simulations\n",
    "num_sims = 500\n",
    "# Hopefully this code gets us data from Yfinance\n",
    "def puller(ticker):\n",
    "    data = yf.Ticker(ticker)\n",
    "    ticker = input('Please enter the ticker symbol to look for: ')\n",
    "# Configure a Monte Carlo simulation to forecast one year daily returns\n",
    "Mc_stocks = MCSimulation(\n",
    "          data = ticker,\n",
    "    num_simulation =  num_sims,\n",
    "    num_trading_days = 252 )\n",
    "\n",
    "\n",
    "\n",
    "\n",
    "\n"
   ]
  },
  {
   "cell_type": "code",
   "execution_count": null,
   "metadata": {},
   "outputs": [],
   "source": [
    "import yfinance as yf\n",
    "\n",
    "# # Input the ticker symbol from the user\n",
    "# ticker_symbol = input(\" TSLA \")\n",
    "\n",
    "# # Define the date range\n",
    "# start_date = \"2023-01-01\"\n",
    "# end_date = \"2023-12-31\"\n",
    "\n",
    "# try:\n",
    "#     # Fetch historical stock data\n",
    "#     stock_data = yf.download(ticker_symbol, start=start_date, end=end_date)\n",
    "\n",
    "#     # Check if the data is empty (invalid symbol or date range)\n",
    "#     if stock_data.empty:\n",
    "#         print(\"No data available for the specified symbol or date range.\")\n",
    "#     else:\n",
    "#         # Print the fetched data\n",
    "#         print(stock_data)\n",
    "# except Exception as e:\n",
    "#     print(f\"An error occurred: {e}\")\n"
   ]
  },
  {
   "cell_type": "code",
   "execution_count": null,
   "metadata": {},
   "outputs": [],
   "source": [
    "def puller(ticker, time):\n",
    "    info = yf.Ticker(ticker)\n",
    "    history = info.history(period=time)\n",
    "    history.drop(columns=[‘Stock Splits’, ‘Dividends’, ‘Volume’, ‘Low’, ‘High’, ‘Open’], inplace=True)\n",
    "    if ‘Capital Gains’ in history.columns:\n",
    "        history.drop(columns=[‘Capital Gains’], inplace=True)\n",
    "    history = history.reset_index()\n",
    "    history[‘Date’] = history[‘Date’].dt.strftime(‘%Y-%m-%d’)\n",
    "    history = history.set_index(‘Date’)\n",
    "    return history\n",
    "# Input the ticker symbol and time period from the user\n",
    "ticker = input(‘Please enter the ticker symbol to look for: ’)\n",
    "time_period = input(‘Please enter the time period (e.g., “1d” for 1 day, “1mo” for 1 month): ’)\n",
    "# Call the puller function to retrieve and display the historical data\n",
    "stock_data = puller(ticker, time_period)\n",
    "print(stock_data)\n",
    "\n",
    "\n"
   ]
  },
  {
   "cell_type": "code",
   "execution_count": null,
   "metadata": {},
   "outputs": [],
   "source": [
    "history = puller('BTC','10y')"
   ]
  }
 ],
 "metadata": {
  "kernelspec": {
   "display_name": "dev-37",
   "language": "python",
   "name": "python3"
  },
  "language_info": {
   "codemirror_mode": {
    "name": "ipython",
    "version": 3
   },
   "file_extension": ".py",
   "mimetype": "text/x-python",
   "name": "python",
   "nbconvert_exporter": "python",
   "pygments_lexer": "ipython3",
   "version": "3.11.5"
  },
  "orig_nbformat": 4
 },
 "nbformat": 4,
 "nbformat_minor": 2
}
